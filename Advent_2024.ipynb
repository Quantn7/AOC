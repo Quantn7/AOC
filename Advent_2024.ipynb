{
  "nbformat": 4,
  "nbformat_minor": 0,
  "metadata": {
    "colab": {
      "provenance": [],
      "mount_file_id": "1SS6pXfcnF_vOfSNyJu1auatipgAMR4dW",
      "authorship_tag": "ABX9TyOu0L127ubO5Q4jBdRoQ4Dt",
      "include_colab_link": true
    },
    "kernelspec": {
      "name": "python3",
      "display_name": "Python 3"
    },
    "language_info": {
      "name": "python"
    }
  },
  "cells": [
    {
      "cell_type": "markdown",
      "metadata": {
        "id": "view-in-github",
        "colab_type": "text"
      },
      "source": [
        "<a href=\"https://colab.research.google.com/github/Quantn7/AOC/blob/main/Advent_2024.ipynb\" target=\"_parent\"><img src=\"https://colab.research.google.com/assets/colab-badge.svg\" alt=\"Open In Colab\"/></a>"
      ]
    },
    {
      "cell_type": "markdown",
      "source": [
        "# Date 1: Historian Hysteria\n"
      ],
      "metadata": {
        "id": "rBN00_T5pOAX"
      }
    },
    {
      "cell_type": "code",
      "source": [
        "import os.path"
      ],
      "metadata": {
        "id": "KqAyCvIEsB3C"
      },
      "execution_count": 22,
      "outputs": []
    },
    {
      "cell_type": "code",
      "source": [
        "curpath = '/content/drive/MyDrive/Colab Notebooks/AdventofCode2024'"
      ],
      "metadata": {
        "id": "2YHJz5gijbF1"
      },
      "execution_count": 20,
      "outputs": []
    },
    {
      "cell_type": "code",
      "source": [
        "with open(os.path.join(curpath, 'date1_input.txt'), 'r') as f:\n",
        "    input_data = f.read()"
      ],
      "metadata": {
        "id": "Rq7bf0Ycj9cp"
      },
      "execution_count": null,
      "outputs": []
    },
    {
      "cell_type": "code",
      "source": [
        "lines = input_data.split('\\n')\n",
        "list1 = []\n",
        "list2 = []\n",
        "for i in lines:\n",
        "    l1, l2 = i.split()\n",
        "    list1.append(int(l1))\n",
        "    list2.append(int(l2))\n",
        "# Sort the lists\n",
        "list1.sort()\n",
        "list2.sort()\n",
        "# Create distances list, zipping each item of list1 and list2\n",
        "distances = list(zip(list1, list2))\n",
        "# Calculate sum distance\n",
        "sum_distance = 0\n",
        "for i, j in distances:\n",
        "    sum_distance += abs(i - j)\n",
        "print('total distance:', sum_distance)"
      ],
      "metadata": {
        "id": "3x7RUle3k8OL",
        "colab": {
          "base_uri": "https://localhost:8080/"
        },
        "outputId": "721e2da1-e7e1-4273-9bab-61e01dce22c4"
      },
      "execution_count": null,
      "outputs": [
        {
          "output_type": "stream",
          "name": "stdout",
          "text": [
            "total distance: 2285373\n"
          ]
        }
      ]
    },
    {
      "cell_type": "markdown",
      "source": [
        "# Date 2: Red-Nosed Reports"
      ],
      "metadata": {
        "id": "yxg4jBNjMRPG"
      }
    },
    {
      "cell_type": "code",
      "source": [
        "from typing import *"
      ],
      "metadata": {
        "id": "YK2FE-YpNds4"
      },
      "execution_count": 95,
      "outputs": []
    },
    {
      "cell_type": "markdown",
      "source": [
        "A report only counts as safe if both of the following are true:\n",
        "\n",
        "- The levels are either all increasing or all decreasing.\n",
        "- Any two adjacent levels differ by at least one and at most three."
      ],
      "metadata": {
        "id": "pnazRIeOOtQL"
      }
    },
    {
      "cell_type": "code",
      "source": [
        "def check_safe(report: List[int]) -> bool:\n",
        "    dif = [report[i] - report[i - 1] for i in range(1, len(report))]\n",
        "    # check if dif list all increasing or all decreasing\n",
        "    def check_sum(input: List[int]) -> bool:\n",
        "        check_sum = sum(abs(i) for i in input)\n",
        "        if abs(sum(input)) == check_sum: # if there is any change in direction (+ or -), the sum(input) will differ from check_sum\n",
        "            return True\n",
        "        else:\n",
        "            return False\n",
        "    # check if level is at least one and at most three\n",
        "    def check_level(input: List[int]) -> bool:\n",
        "        result = True\n",
        "        if input[0] == 0:\n",
        "            result = False\n",
        "        elif input[0] > 0:\n",
        "            for i in input:\n",
        "                if i not in range(1, 4):\n",
        "                    result = False\n",
        "                    break\n",
        "        elif input[0] < 0:\n",
        "            for i in input:\n",
        "                if i not in range(-3, 0):\n",
        "                    result = False\n",
        "                    break\n",
        "        return result\n",
        "    if check_sum(dif) and check_level(dif):\n",
        "        return True\n",
        "    else:\n",
        "        return False"
      ],
      "metadata": {
        "id": "HHdUkXzFuwHQ"
      },
      "execution_count": null,
      "outputs": []
    },
    {
      "cell_type": "code",
      "source": [
        "with open(os.path.join(curpath, 'date2_input.txt'), 'r') as f:\n",
        "    input_d2 = f.read()"
      ],
      "metadata": {
        "id": "0jcEKFlybJk5"
      },
      "execution_count": null,
      "outputs": []
    },
    {
      "cell_type": "code",
      "source": [
        "lines = input_d2.split('\\n')\n",
        "count_safe = 0\n",
        "for i in lines:\n",
        "    line = i.split()\n",
        "    report = [int(i) for i in line]\n",
        "    if check_safe(report):\n",
        "        count_safe += 1\n",
        "print('total safe report:', count_safe)"
      ],
      "metadata": {
        "colab": {
          "base_uri": "https://localhost:8080/"
        },
        "id": "k3VArMdtpVdP",
        "outputId": "0035c6bc-1c80-4476-d764-b910831dc2f8"
      },
      "execution_count": null,
      "outputs": [
        {
          "output_type": "stream",
          "name": "stdout",
          "text": [
            "total safe report: 321\n"
          ]
        }
      ]
    },
    {
      "cell_type": "markdown",
      "source": [
        "## Part two: Problem Dampener\n",
        "tolerate a single bad level"
      ],
      "metadata": {
        "id": "yuDKrlsg2KXT"
      }
    },
    {
      "cell_type": "code",
      "source": [
        "def check_safe_with_tolerate(report: List[int]) -> bool:\n",
        "    for i in range(len(report)):\n",
        "        modified_report = report[:i] + report[i+1:]\n",
        "        if check_safe(modified_report):\n",
        "            return True\n",
        "    return False"
      ],
      "metadata": {
        "id": "VEm6FgEpbBLj"
      },
      "execution_count": null,
      "outputs": []
    },
    {
      "cell_type": "code",
      "source": [
        "# Check safe report again\n",
        "# if there is a bad report, try to remove level then recheck\n",
        "lines_2 = input_d2.split('\\n')\n",
        "count_safe = 0\n",
        "for i in lines_2:\n",
        "    line = i.split()\n",
        "    report = [int(i) for i in line]\n",
        "    if check_safe(report) or check_safe_with_tolerate(report):\n",
        "        count_safe += 1\n",
        "print('total safe report with toleration:', count_safe)"
      ],
      "metadata": {
        "colab": {
          "base_uri": "https://localhost:8080/"
        },
        "id": "W8xnxGOgzWQN",
        "outputId": "65bcc1fe-db2e-4d1b-997b-9bff7d6a05a1"
      },
      "execution_count": null,
      "outputs": [
        {
          "output_type": "stream",
          "name": "stdout",
          "text": [
            "total safe report with toleration: 386\n"
          ]
        }
      ]
    },
    {
      "cell_type": "markdown",
      "source": [
        "# Date 3: Mull it over"
      ],
      "metadata": {
        "id": "fz0oMj6Z5ucj"
      }
    },
    {
      "cell_type": "code",
      "source": [
        "sample_input = 'xmul(2,4)%&mul[3,7]!@^do_not_mul(5,5)+mul(32,64]then(mul(11,8)mul(8,5))'"
      ],
      "metadata": {
        "id": "nnX1JYEo5sB5"
      },
      "execution_count": 1,
      "outputs": []
    },
    {
      "cell_type": "code",
      "source": [
        "import re"
      ],
      "metadata": {
        "id": "CzCdzyVb6Gg9"
      },
      "execution_count": 2,
      "outputs": []
    },
    {
      "cell_type": "code",
      "source": [
        "sample_rex = \"mul+[(]\\d+[,]\\d+[)]\""
      ],
      "metadata": {
        "id": "NrnXXcX36Hd2"
      },
      "execution_count": 10,
      "outputs": []
    },
    {
      "cell_type": "code",
      "source": [
        "with open(os.path.join(curpath, 'date3_input.txt'), 'r') as f:\n",
        "    input = f.read()"
      ],
      "metadata": {
        "id": "oxw05cX5ES0J"
      },
      "execution_count": 23,
      "outputs": []
    },
    {
      "cell_type": "code",
      "source": [
        "output = re.findall(sample_rex, input)"
      ],
      "metadata": {
        "id": "9avTDp8K6JjV"
      },
      "execution_count": 24,
      "outputs": []
    },
    {
      "cell_type": "code",
      "source": [
        "def mul(a, b):\n",
        "    return a * b"
      ],
      "metadata": {
        "id": "bAliJX_39G2m"
      },
      "execution_count": 13,
      "outputs": []
    },
    {
      "cell_type": "code",
      "source": [
        "s = sum(eval(i) for i in output)\n",
        "print(s)"
      ],
      "metadata": {
        "colab": {
          "base_uri": "https://localhost:8080/"
        },
        "id": "Mbx-y3PfDyad",
        "outputId": "2c0dd827-937d-4cd9-b079-c80d39a92dc6"
      },
      "execution_count": 26,
      "outputs": [
        {
          "output_type": "stream",
          "name": "stdout",
          "text": [
            "166630675\n"
          ]
        }
      ]
    },
    {
      "cell_type": "markdown",
      "source": [
        "## Part two: enable and disable\n",
        "There are two new instructions you'll need to handle:\n",
        "\n",
        "- The do() instruction enables future mul instructions.\n",
        "- The don't() instruction disables future mul instructions.\n",
        "\n",
        "Only the most recent do() or don't() instruction applies. At the beginning of the program, mul instructions are enabled."
      ],
      "metadata": {
        "id": "grmUzjWNFkdw"
      }
    },
    {
      "cell_type": "code",
      "source": [
        "sp_input2 = \"xmul(2,4)&mul[3,7]!^don't()_mul(5,5)+mul(32,64](mul(11,8)undo()?mul(8,5))\""
      ],
      "metadata": {
        "id": "WoCwIyU1D8Nr"
      },
      "execution_count": 27,
      "outputs": []
    },
    {
      "cell_type": "code",
      "source": [
        "# Use regex to get \"don't\", \"do()\" and \"mul\" from input\n",
        "new_regex = \"don't\\(\\)|do\\(\\)|mul+[(]\\d+[,]\\d+[)]\""
      ],
      "metadata": {
        "id": "Hw5VlIwRF2CG"
      },
      "execution_count": 91,
      "outputs": []
    },
    {
      "cell_type": "code",
      "source": [
        "# create list after using regex\n",
        "# remind: list includes \"don't()\", \"do()\" and function as string\n",
        "new_output = re.findall(new_regex, input)"
      ],
      "metadata": {
        "id": "alaNVvosRlPs"
      },
      "execution_count": 99,
      "outputs": []
    },
    {
      "cell_type": "code",
      "source": [
        "output_for_eval = [] # Handling to get enabled values and append to this list"
      ],
      "metadata": {
        "id": "iRj4G5vzWw-I"
      },
      "execution_count": 100,
      "outputs": []
    },
    {
      "cell_type": "code",
      "source": [
        "# Define a way to append value to a list or pass a value depend on a switch\n",
        "# by default, switch is True, means that value will be appended.\n",
        "# if looping to \"don't()\", switch will change to False, values afterward wont be appended until switch is back to True\n",
        "switch = True\n",
        "def do_append(input: List, value):\n",
        "    if switch == True:\n",
        "        input.append(value)\n",
        "    else:\n",
        "        pass"
      ],
      "metadata": {
        "id": "UYXiwRmYjTGR"
      },
      "execution_count": 96,
      "outputs": []
    },
    {
      "cell_type": "code",
      "source": [
        "# Loop in new_output, change switch when hit \"don't()\" or \"do()\"\n",
        "for i in new_output:\n",
        "    if i == \"don't()\":\n",
        "        # switch to False to pass values\n",
        "        switch = False\n",
        "        continue\n",
        "    elif i == \"do()\":\n",
        "        switch = True\n",
        "        continue\n",
        "    else:\n",
        "        do_append(output_for_eval, i)"
      ],
      "metadata": {
        "id": "3-NBM-9LnOWI"
      },
      "execution_count": 101,
      "outputs": []
    },
    {
      "cell_type": "code",
      "source": [
        "sum_with_enabled = sum(eval(i) for i in output_for_eval)\n",
        "print(sum_with_enabled)"
      ],
      "metadata": {
        "colab": {
          "base_uri": "https://localhost:8080/"
        },
        "id": "-us6o4KBRta2",
        "outputId": "a7e9a537-35de-45cc-b1cc-d814add840a6"
      },
      "execution_count": 102,
      "outputs": [
        {
          "output_type": "stream",
          "name": "stdout",
          "text": [
            "93465710\n"
          ]
        }
      ]
    },
    {
      "cell_type": "code",
      "source": [],
      "metadata": {
        "id": "lW22687r0V-_"
      },
      "execution_count": null,
      "outputs": []
    }
  ]
}