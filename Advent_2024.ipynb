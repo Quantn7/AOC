{
  "nbformat": 4,
  "nbformat_minor": 0,
  "metadata": {
    "colab": {
      "provenance": [],
      "mount_file_id": "1SS6pXfcnF_vOfSNyJu1auatipgAMR4dW",
      "authorship_tag": "ABX9TyObPCaatmp9LWZM4RA3MmlR",
      "include_colab_link": true
    },
    "kernelspec": {
      "name": "python3",
      "display_name": "Python 3"
    },
    "language_info": {
      "name": "python"
    }
  },
  "cells": [
    {
      "cell_type": "markdown",
      "metadata": {
        "id": "view-in-github",
        "colab_type": "text"
      },
      "source": [
        "<a href=\"https://colab.research.google.com/github/Quantn7/AOC/blob/main/Advent_2024.ipynb\" target=\"_parent\"><img src=\"https://colab.research.google.com/assets/colab-badge.svg\" alt=\"Open In Colab\"/></a>"
      ]
    },
    {
      "cell_type": "markdown",
      "source": [
        "# Date 1: Historian Hysteria\n"
      ],
      "metadata": {
        "id": "rBN00_T5pOAX"
      }
    },
    {
      "cell_type": "code",
      "source": [
        "import os.path"
      ],
      "metadata": {
        "id": "KqAyCvIEsB3C"
      },
      "execution_count": 93,
      "outputs": []
    },
    {
      "cell_type": "code",
      "source": [
        "curpath = '/content/drive/MyDrive/Colab Notebooks/AdventofCode2024'"
      ],
      "metadata": {
        "id": "2YHJz5gijbF1"
      },
      "execution_count": 94,
      "outputs": []
    },
    {
      "cell_type": "code",
      "source": [
        "with open(os.path.join(curpath, 'date1_input.txt'), 'r') as f:\n",
        "    input_data = f.read()"
      ],
      "metadata": {
        "id": "Rq7bf0Ycj9cp"
      },
      "execution_count": 95,
      "outputs": []
    },
    {
      "cell_type": "code",
      "source": [
        "lines = input_data.split('\\n')\n",
        "list1 = []\n",
        "list2 = []\n",
        "for i in lines:\n",
        "    l1, l2 = i.split()\n",
        "    list1.append(int(l1))\n",
        "    list2.append(int(l2))\n",
        "# Sort the lists\n",
        "list1.sort()\n",
        "list2.sort()\n",
        "# Create distances list, zipping each item of list1 and list2\n",
        "distances = list(zip(list1, list2))\n",
        "# Calculate sum distance\n",
        "sum_distance = 0\n",
        "for i, j in distances:\n",
        "    sum_distance += abs(i - j)\n",
        "print('total distance:', sum_distance)"
      ],
      "metadata": {
        "id": "3x7RUle3k8OL",
        "colab": {
          "base_uri": "https://localhost:8080/"
        },
        "outputId": "37deeec4-b82d-49bd-b374-74ecf20f0df1"
      },
      "execution_count": 96,
      "outputs": [
        {
          "output_type": "stream",
          "name": "stdout",
          "text": [
            "total distance: 2285373\n"
          ]
        }
      ]
    },
    {
      "cell_type": "markdown",
      "source": [
        "# Date 2: Red-Nosed Reports"
      ],
      "metadata": {
        "id": "yxg4jBNjMRPG"
      }
    },
    {
      "cell_type": "code",
      "source": [
        "from typing import *"
      ],
      "metadata": {
        "id": "YK2FE-YpNds4"
      },
      "execution_count": 97,
      "outputs": []
    },
    {
      "cell_type": "markdown",
      "source": [
        "A report only counts as safe if both of the following are true:\n",
        "\n",
        "- The levels are either all increasing or all decreasing.\n",
        "- Any two adjacent levels differ by at least one and at most three."
      ],
      "metadata": {
        "id": "pnazRIeOOtQL"
      }
    },
    {
      "cell_type": "code",
      "source": [
        "def check_safe(report: List[int]) -> bool:\n",
        "    dif = [report[i] - report[i - 1] for i in range(1, len(report))]\n",
        "    # check if dif list all increasing or all decreasing\n",
        "    def check_sum(input: List[int]) -> bool:\n",
        "        check_sum = sum(abs(i) for i in input)\n",
        "        if abs(sum(input)) == check_sum: # if there is any change in direction (+ or -), the sum(input) will differ from check_sum\n",
        "            return True\n",
        "        else:\n",
        "            return False\n",
        "    # check if level is at least one and at most three\n",
        "    def check_level(input: List[int]) -> bool:\n",
        "        result = True\n",
        "        if input[0] == 0:\n",
        "            result = False\n",
        "        elif input[0] > 0:\n",
        "            for i in input:\n",
        "                if i not in range(1, 4):\n",
        "                    result = False\n",
        "                    break\n",
        "        elif input[0] < 0:\n",
        "            for i in input:\n",
        "                if i not in range(-3, 0):\n",
        "                    result = False\n",
        "                    break\n",
        "        return result\n",
        "    if check_sum(dif) and check_level(dif):\n",
        "        return True\n",
        "    else:\n",
        "        return False"
      ],
      "metadata": {
        "id": "HHdUkXzFuwHQ"
      },
      "execution_count": 98,
      "outputs": []
    },
    {
      "cell_type": "code",
      "source": [
        "with open(os.path.join(curpath, 'date2_input.txt'), 'r') as f:\n",
        "    input_d2 = f.read()"
      ],
      "metadata": {
        "id": "0jcEKFlybJk5"
      },
      "execution_count": 99,
      "outputs": []
    },
    {
      "cell_type": "code",
      "source": [
        "lines = input_d2.split('\\n')\n",
        "count_safe = 0\n",
        "for i in lines:\n",
        "    line = i.split()\n",
        "    report = [int(i) for i in line]\n",
        "    if check_safe(report):\n",
        "        count_safe += 1\n",
        "print('total safe report:', count_safe)"
      ],
      "metadata": {
        "colab": {
          "base_uri": "https://localhost:8080/"
        },
        "id": "k3VArMdtpVdP",
        "outputId": "c9d6e2a8-bc9f-4cb3-9eca-b5fb751c6591"
      },
      "execution_count": 100,
      "outputs": [
        {
          "output_type": "stream",
          "name": "stdout",
          "text": [
            "total safe report: 321\n"
          ]
        }
      ]
    },
    {
      "cell_type": "markdown",
      "source": [
        "## Part two: Problem Dampener\n",
        "tolerate a single bad level"
      ],
      "metadata": {
        "id": "yuDKrlsg2KXT"
      }
    },
    {
      "cell_type": "code",
      "source": [
        "def check_safe_with_tolerate(report: List[int]) -> bool:\n",
        "    for i in range(len(report)):\n",
        "        modified_report = report[:i] + report[i+1:]\n",
        "        if check_safe(modified_report):\n",
        "            return True\n",
        "    return False"
      ],
      "metadata": {
        "id": "VEm6FgEpbBLj"
      },
      "execution_count": 104,
      "outputs": []
    },
    {
      "cell_type": "code",
      "source": [
        "# Check safe report again\n",
        "# if there is a bad report, try to remove level then recheck\n",
        "lines_2 = input_d2.split('\\n')\n",
        "count_safe = 0\n",
        "for i in lines_2:\n",
        "    line = i.split()\n",
        "    report = [int(i) for i in line]\n",
        "    if check_safe(report) or check_safe_with_tolerate(report):\n",
        "        count_safe += 1\n",
        "print('total safe report with toleration:', count_safe)"
      ],
      "metadata": {
        "colab": {
          "base_uri": "https://localhost:8080/"
        },
        "id": "W8xnxGOgzWQN",
        "outputId": "6625d1d2-e5c7-4a0e-8e7b-131fd06b26e1"
      },
      "execution_count": 105,
      "outputs": [
        {
          "output_type": "stream",
          "name": "stdout",
          "text": [
            "total safe report with toleration: 386\n"
          ]
        }
      ]
    },
    {
      "cell_type": "code",
      "source": [],
      "metadata": {
        "id": "8AzQZLVFKW61"
      },
      "execution_count": null,
      "outputs": []
    }
  ]
}